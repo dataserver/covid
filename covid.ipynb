{
 "cells": [
  {
   "cell_type": "markdown",
   "id": "42910c52",
   "metadata": {},
   "source": [
    "# Pesquisa sobre óbitos da COVID por número de doses recebidas"
   ]
  },
  {
   "cell_type": "code",
   "execution_count": 10,
   "id": "4cf87017",
   "metadata": {},
   "outputs": [],
   "source": [
    "import plotly.graph_objects as go\n",
    "import plotly.express as px\n",
    "import pandas as pd\n",
    "import sqlite3\n",
    "import datetime\n",
    "\n",
    "# CONFIGURAÇÃO BÁSICA:\n",
    "# Nome do arquivo CSV para análise\n",
    "NOME_DO_ARQUIVO_CSV = \"INFLUD22-25-07-2022.csv\"\n",
    "\n",
    "# descomentar para visualizar toda tabela\n",
    "# pd.set_option('display.max_columns', None)\n",
    "# pd.set_option('display.max_rows', None)"
   ]
  },
  {
   "cell_type": "markdown",
   "id": "c6306363",
   "metadata": {},
   "source": [
    "## Chaves e Descrições estão disponíveis no PDFs na pasta /docs\n",
    "\n",
    "        docs/dicionario_de_dados_srag_hosp_DD_MM_AAAA.pdf\n",
    "\n",
    "## Caso queira converter para banco de dados  \n",
    "\n",
    "SQLite : importar usando [DB Browser for SQLite](https://sqlitebrowser.org/dl/)  \n",
    "\n",
    "Comentar a linha:\n",
    "\n",
    "\n",
    "        dataframe = pd.read_csv(NOME_DO_ARQUIVO_CSV, sep=\";\", decimal=\",\", encoding=\"utf8\", low_memory=False)\n",
    "\n",
    "\n",
    "E descomentar as linhas:  \n",
    "\n",
    "\n",
    "        con = sqlite3.connect(\"database.sqlite\")\n",
    "        dataframe = pd.read_sql_query(\"SELECT * from tabelas\", con)\n"
   ]
  },
  {
   "cell_type": "code",
   "execution_count": 11,
   "id": "9e5114d5",
   "metadata": {},
   "outputs": [],
   "source": [
    "dataframe =  pd.read_csv(NOME_DO_ARQUIVO_CSV, sep=\";\", decimal=\",\", encoding=\"utf8\", low_memory=False)\n",
    "# con = sqlite3.connect(\"database.sqlite\")\n",
    "# dataframe = pd.read_sql_query(\"SELECT * from tabelas\", con)\n",
    "\n",
    "# converter data para datetime object\n",
    "dataframe[\"DT_NOTIFIC\"] = pd.to_datetime(dataframe[\"DT_NOTIFIC\"], dayfirst=True)\n",
    "dataframe[\"DT_SIN_PRI\"] = pd.to_datetime(dataframe[\"DT_SIN_PRI\"], dayfirst=True)\n",
    "df = dataframe\n",
    "# converter data dd/mm/aaaa para datetime object\n",
    "df[\"DOSE_1_COV\"] = pd.to_datetime(df[\"DOSE_1_COV\"], dayfirst=True, errors='coerce')\n",
    "df[\"DOSE_2_COV\"] = pd.to_datetime(df[\"DOSE_2_COV\"], dayfirst=True, errors='coerce')\n",
    "df[\"DOSE_REF\"] = pd.to_datetime(df[\"DOSE_REF\"], dayfirst=True, errors='coerce')\n",
    "df[\"DT_NASC\"] = pd.to_datetime(df[\"DT_NASC\"], dayfirst=True, errors='coerce')"
   ]
  },
  {
   "cell_type": "markdown",
   "id": "ad59e309",
   "metadata": {},
   "source": [
    "## Filtrar COVID como causa do óbito"
   ]
  },
  {
   "cell_type": "code",
   "execution_count": 12,
   "id": "3d8eea54",
   "metadata": {},
   "outputs": [
    {
     "name": "stdout",
     "output_type": "stream",
     "text": [
      "total mortes por COVID: 46690\n"
     ]
    }
   ],
   "source": [
    "# docs/dicionario_de_dados_srag_hosp_DD_MM_AAAA.pdf\n",
    "# EVOLUCAO \n",
    "#   1 - Cura\n",
    "#   2 - Óbito\n",
    "#   3 - Óbito por outras causas\n",
    "#   9 - Ignorado\n",
    "# CLASSI_FIN\n",
    "#   1 - SRAG por influenza\n",
    "#   2 - SRAG por outro vírus respiratório\n",
    "#   3 - SRAG por outro agente etiológico, qual:\n",
    "#   4 - SRAG não especificado\n",
    "#   5 - SRAG por covid-19\n",
    "\n",
    "df_obito_por_covid = df.loc[(df[\"EVOLUCAO\"] == 2) & (df[\"CLASSI_FIN\"]==5)]\n",
    "\n",
    "# deixar apenas colunas sobre vacinação para facilitar visualização\n",
    "df_obito_por_covid = df_obito_por_covid.loc[:, df_obito_por_covid.columns.intersection([\"DOSE_1_COV\",\"DOSE_2_COV\",\"DOSE_REF\"])]\n",
    "print(\"total mortes por COVID:\", len(df_obito_por_covid))"
   ]
  },
  {
   "cell_type": "markdown",
   "id": "356fd881",
   "metadata": {},
   "source": [
    "## Somar número de doses de vacina recebida\n",
    "somar as doses aplicadas baseado na disponibilidade da data da aplicação da dose"
   ]
  },
  {
   "cell_type": "code",
   "execution_count": 13,
   "id": "76c254ec",
   "metadata": {},
   "outputs": [],
   "source": [
    "df_obito_por_covid[\"total_doses\"] = df_obito_por_covid[[\"DOSE_1_COV\",\"DOSE_2_COV\",\"DOSE_REF\"]].count(axis=1)\n",
    "# df_obito_por_covid\n",
    "\n",
    "total_mortes_dose = len(df_obito_por_covid.loc[df_obito_por_covid[\"total_doses\"] == 3]) + \\\n",
    "    len(df_obito_por_covid.loc[df_obito_por_covid[\"total_doses\"] == 2]) + \\\n",
    "    len(df_obito_por_covid.loc[df_obito_por_covid[\"total_doses\"] == 1]) + \\\n",
    "    len(df_obito_por_covid.loc[df_obito_por_covid[\"total_doses\"] == 0])"
   ]
  },
  {
   "cell_type": "code",
   "execution_count": 14,
   "id": "6e4d9b4a",
   "metadata": {},
   "outputs": [
    {
     "name": "stdout",
     "output_type": "stream",
     "text": [
      "doses\t óbitos\n",
      "0 doses\t 14272\n",
      "1 doses\t 2481\n",
      "2 doses\t 19113\n",
      "3 doses\t 10824\n",
      "total\t 46690\n"
     ]
    }
   ],
   "source": [
    "labels_doses = []\n",
    "values_doses = []\n",
    "labels_doses.append(\"0\")\n",
    "values_doses.append(len(df_obito_por_covid.loc[df_obito_por_covid[\"total_doses\"] == 0]))  \n",
    "labels_doses.append(\"1\")\n",
    "values_doses.append(len(df_obito_por_covid.loc[df_obito_por_covid[\"total_doses\"] == 1]))\n",
    "labels_doses.append(\"2\")\n",
    "values_doses.append(len(df_obito_por_covid.loc[df_obito_por_covid[\"total_doses\"] == 2]))\n",
    "labels_doses.append(\"3\")\n",
    "values_doses.append(len(df_obito_por_covid.loc[df_obito_por_covid[\"total_doses\"] == 3]))\n",
    "\n",
    "\n",
    "print(\"doses\\t\", \"óbitos\")\n",
    "for index in range(len(labels_doses)):\n",
    "    print(f\"{labels_doses[index]} doses\\t\", values_doses[index])\n",
    "\n",
    "total_mortes_dose = sum(values_doses)\n",
    "print(\"total\\t\", total_mortes_dose)"
   ]
  },
  {
   "cell_type": "code",
   "execution_count": 15,
   "id": "bfb3d05f",
   "metadata": {},
   "outputs": [
    {
     "data": {
      "application/vnd.plotly.v1+json": {
       "config": {
        "plotlyServerURL": "https://plot.ly"
       },
       "data": [
        {
         "hovertemplate": "%{x} doses %{y:s}",
         "type": "bar",
         "x": [
          "0",
          "1",
          "2",
          "3"
         ],
         "y": [
          14272,
          2481,
          19113,
          10824
         ]
        }
       ],
       "layout": {
        "template": {
         "data": {
          "bar": [
           {
            "error_x": {
             "color": "#2a3f5f"
            },
            "error_y": {
             "color": "#2a3f5f"
            },
            "marker": {
             "line": {
              "color": "#E5ECF6",
              "width": 0.5
             },
             "pattern": {
              "fillmode": "overlay",
              "size": 10,
              "solidity": 0.2
             }
            },
            "type": "bar"
           }
          ],
          "barpolar": [
           {
            "marker": {
             "line": {
              "color": "#E5ECF6",
              "width": 0.5
             },
             "pattern": {
              "fillmode": "overlay",
              "size": 10,
              "solidity": 0.2
             }
            },
            "type": "barpolar"
           }
          ],
          "carpet": [
           {
            "aaxis": {
             "endlinecolor": "#2a3f5f",
             "gridcolor": "white",
             "linecolor": "white",
             "minorgridcolor": "white",
             "startlinecolor": "#2a3f5f"
            },
            "baxis": {
             "endlinecolor": "#2a3f5f",
             "gridcolor": "white",
             "linecolor": "white",
             "minorgridcolor": "white",
             "startlinecolor": "#2a3f5f"
            },
            "type": "carpet"
           }
          ],
          "choropleth": [
           {
            "colorbar": {
             "outlinewidth": 0,
             "ticks": ""
            },
            "type": "choropleth"
           }
          ],
          "contour": [
           {
            "colorbar": {
             "outlinewidth": 0,
             "ticks": ""
            },
            "colorscale": [
             [
              0,
              "#0d0887"
             ],
             [
              0.1111111111111111,
              "#46039f"
             ],
             [
              0.2222222222222222,
              "#7201a8"
             ],
             [
              0.3333333333333333,
              "#9c179e"
             ],
             [
              0.4444444444444444,
              "#bd3786"
             ],
             [
              0.5555555555555556,
              "#d8576b"
             ],
             [
              0.6666666666666666,
              "#ed7953"
             ],
             [
              0.7777777777777778,
              "#fb9f3a"
             ],
             [
              0.8888888888888888,
              "#fdca26"
             ],
             [
              1,
              "#f0f921"
             ]
            ],
            "type": "contour"
           }
          ],
          "contourcarpet": [
           {
            "colorbar": {
             "outlinewidth": 0,
             "ticks": ""
            },
            "type": "contourcarpet"
           }
          ],
          "heatmap": [
           {
            "colorbar": {
             "outlinewidth": 0,
             "ticks": ""
            },
            "colorscale": [
             [
              0,
              "#0d0887"
             ],
             [
              0.1111111111111111,
              "#46039f"
             ],
             [
              0.2222222222222222,
              "#7201a8"
             ],
             [
              0.3333333333333333,
              "#9c179e"
             ],
             [
              0.4444444444444444,
              "#bd3786"
             ],
             [
              0.5555555555555556,
              "#d8576b"
             ],
             [
              0.6666666666666666,
              "#ed7953"
             ],
             [
              0.7777777777777778,
              "#fb9f3a"
             ],
             [
              0.8888888888888888,
              "#fdca26"
             ],
             [
              1,
              "#f0f921"
             ]
            ],
            "type": "heatmap"
           }
          ],
          "heatmapgl": [
           {
            "colorbar": {
             "outlinewidth": 0,
             "ticks": ""
            },
            "colorscale": [
             [
              0,
              "#0d0887"
             ],
             [
              0.1111111111111111,
              "#46039f"
             ],
             [
              0.2222222222222222,
              "#7201a8"
             ],
             [
              0.3333333333333333,
              "#9c179e"
             ],
             [
              0.4444444444444444,
              "#bd3786"
             ],
             [
              0.5555555555555556,
              "#d8576b"
             ],
             [
              0.6666666666666666,
              "#ed7953"
             ],
             [
              0.7777777777777778,
              "#fb9f3a"
             ],
             [
              0.8888888888888888,
              "#fdca26"
             ],
             [
              1,
              "#f0f921"
             ]
            ],
            "type": "heatmapgl"
           }
          ],
          "histogram": [
           {
            "marker": {
             "pattern": {
              "fillmode": "overlay",
              "size": 10,
              "solidity": 0.2
             }
            },
            "type": "histogram"
           }
          ],
          "histogram2d": [
           {
            "colorbar": {
             "outlinewidth": 0,
             "ticks": ""
            },
            "colorscale": [
             [
              0,
              "#0d0887"
             ],
             [
              0.1111111111111111,
              "#46039f"
             ],
             [
              0.2222222222222222,
              "#7201a8"
             ],
             [
              0.3333333333333333,
              "#9c179e"
             ],
             [
              0.4444444444444444,
              "#bd3786"
             ],
             [
              0.5555555555555556,
              "#d8576b"
             ],
             [
              0.6666666666666666,
              "#ed7953"
             ],
             [
              0.7777777777777778,
              "#fb9f3a"
             ],
             [
              0.8888888888888888,
              "#fdca26"
             ],
             [
              1,
              "#f0f921"
             ]
            ],
            "type": "histogram2d"
           }
          ],
          "histogram2dcontour": [
           {
            "colorbar": {
             "outlinewidth": 0,
             "ticks": ""
            },
            "colorscale": [
             [
              0,
              "#0d0887"
             ],
             [
              0.1111111111111111,
              "#46039f"
             ],
             [
              0.2222222222222222,
              "#7201a8"
             ],
             [
              0.3333333333333333,
              "#9c179e"
             ],
             [
              0.4444444444444444,
              "#bd3786"
             ],
             [
              0.5555555555555556,
              "#d8576b"
             ],
             [
              0.6666666666666666,
              "#ed7953"
             ],
             [
              0.7777777777777778,
              "#fb9f3a"
             ],
             [
              0.8888888888888888,
              "#fdca26"
             ],
             [
              1,
              "#f0f921"
             ]
            ],
            "type": "histogram2dcontour"
           }
          ],
          "mesh3d": [
           {
            "colorbar": {
             "outlinewidth": 0,
             "ticks": ""
            },
            "type": "mesh3d"
           }
          ],
          "parcoords": [
           {
            "line": {
             "colorbar": {
              "outlinewidth": 0,
              "ticks": ""
             }
            },
            "type": "parcoords"
           }
          ],
          "pie": [
           {
            "automargin": true,
            "type": "pie"
           }
          ],
          "scatter": [
           {
            "fillpattern": {
             "fillmode": "overlay",
             "size": 10,
             "solidity": 0.2
            },
            "type": "scatter"
           }
          ],
          "scatter3d": [
           {
            "line": {
             "colorbar": {
              "outlinewidth": 0,
              "ticks": ""
             }
            },
            "marker": {
             "colorbar": {
              "outlinewidth": 0,
              "ticks": ""
             }
            },
            "type": "scatter3d"
           }
          ],
          "scattercarpet": [
           {
            "marker": {
             "colorbar": {
              "outlinewidth": 0,
              "ticks": ""
             }
            },
            "type": "scattercarpet"
           }
          ],
          "scattergeo": [
           {
            "marker": {
             "colorbar": {
              "outlinewidth": 0,
              "ticks": ""
             }
            },
            "type": "scattergeo"
           }
          ],
          "scattergl": [
           {
            "marker": {
             "colorbar": {
              "outlinewidth": 0,
              "ticks": ""
             }
            },
            "type": "scattergl"
           }
          ],
          "scattermapbox": [
           {
            "marker": {
             "colorbar": {
              "outlinewidth": 0,
              "ticks": ""
             }
            },
            "type": "scattermapbox"
           }
          ],
          "scatterpolar": [
           {
            "marker": {
             "colorbar": {
              "outlinewidth": 0,
              "ticks": ""
             }
            },
            "type": "scatterpolar"
           }
          ],
          "scatterpolargl": [
           {
            "marker": {
             "colorbar": {
              "outlinewidth": 0,
              "ticks": ""
             }
            },
            "type": "scatterpolargl"
           }
          ],
          "scatterternary": [
           {
            "marker": {
             "colorbar": {
              "outlinewidth": 0,
              "ticks": ""
             }
            },
            "type": "scatterternary"
           }
          ],
          "surface": [
           {
            "colorbar": {
             "outlinewidth": 0,
             "ticks": ""
            },
            "colorscale": [
             [
              0,
              "#0d0887"
             ],
             [
              0.1111111111111111,
              "#46039f"
             ],
             [
              0.2222222222222222,
              "#7201a8"
             ],
             [
              0.3333333333333333,
              "#9c179e"
             ],
             [
              0.4444444444444444,
              "#bd3786"
             ],
             [
              0.5555555555555556,
              "#d8576b"
             ],
             [
              0.6666666666666666,
              "#ed7953"
             ],
             [
              0.7777777777777778,
              "#fb9f3a"
             ],
             [
              0.8888888888888888,
              "#fdca26"
             ],
             [
              1,
              "#f0f921"
             ]
            ],
            "type": "surface"
           }
          ],
          "table": [
           {
            "cells": {
             "fill": {
              "color": "#EBF0F8"
             },
             "line": {
              "color": "white"
             }
            },
            "header": {
             "fill": {
              "color": "#C8D4E3"
             },
             "line": {
              "color": "white"
             }
            },
            "type": "table"
           }
          ]
         },
         "layout": {
          "annotationdefaults": {
           "arrowcolor": "#2a3f5f",
           "arrowhead": 0,
           "arrowwidth": 1
          },
          "autotypenumbers": "strict",
          "coloraxis": {
           "colorbar": {
            "outlinewidth": 0,
            "ticks": ""
           }
          },
          "colorscale": {
           "diverging": [
            [
             0,
             "#8e0152"
            ],
            [
             0.1,
             "#c51b7d"
            ],
            [
             0.2,
             "#de77ae"
            ],
            [
             0.3,
             "#f1b6da"
            ],
            [
             0.4,
             "#fde0ef"
            ],
            [
             0.5,
             "#f7f7f7"
            ],
            [
             0.6,
             "#e6f5d0"
            ],
            [
             0.7,
             "#b8e186"
            ],
            [
             0.8,
             "#7fbc41"
            ],
            [
             0.9,
             "#4d9221"
            ],
            [
             1,
             "#276419"
            ]
           ],
           "sequential": [
            [
             0,
             "#0d0887"
            ],
            [
             0.1111111111111111,
             "#46039f"
            ],
            [
             0.2222222222222222,
             "#7201a8"
            ],
            [
             0.3333333333333333,
             "#9c179e"
            ],
            [
             0.4444444444444444,
             "#bd3786"
            ],
            [
             0.5555555555555556,
             "#d8576b"
            ],
            [
             0.6666666666666666,
             "#ed7953"
            ],
            [
             0.7777777777777778,
             "#fb9f3a"
            ],
            [
             0.8888888888888888,
             "#fdca26"
            ],
            [
             1,
             "#f0f921"
            ]
           ],
           "sequentialminus": [
            [
             0,
             "#0d0887"
            ],
            [
             0.1111111111111111,
             "#46039f"
            ],
            [
             0.2222222222222222,
             "#7201a8"
            ],
            [
             0.3333333333333333,
             "#9c179e"
            ],
            [
             0.4444444444444444,
             "#bd3786"
            ],
            [
             0.5555555555555556,
             "#d8576b"
            ],
            [
             0.6666666666666666,
             "#ed7953"
            ],
            [
             0.7777777777777778,
             "#fb9f3a"
            ],
            [
             0.8888888888888888,
             "#fdca26"
            ],
            [
             1,
             "#f0f921"
            ]
           ]
          },
          "colorway": [
           "#636efa",
           "#EF553B",
           "#00cc96",
           "#ab63fa",
           "#FFA15A",
           "#19d3f3",
           "#FF6692",
           "#B6E880",
           "#FF97FF",
           "#FECB52"
          ],
          "font": {
           "color": "#2a3f5f"
          },
          "geo": {
           "bgcolor": "white",
           "lakecolor": "white",
           "landcolor": "#E5ECF6",
           "showlakes": true,
           "showland": true,
           "subunitcolor": "white"
          },
          "hoverlabel": {
           "align": "left"
          },
          "hovermode": "closest",
          "mapbox": {
           "style": "light"
          },
          "paper_bgcolor": "white",
          "plot_bgcolor": "#E5ECF6",
          "polar": {
           "angularaxis": {
            "gridcolor": "white",
            "linecolor": "white",
            "ticks": ""
           },
           "bgcolor": "#E5ECF6",
           "radialaxis": {
            "gridcolor": "white",
            "linecolor": "white",
            "ticks": ""
           }
          },
          "scene": {
           "xaxis": {
            "backgroundcolor": "#E5ECF6",
            "gridcolor": "white",
            "gridwidth": 2,
            "linecolor": "white",
            "showbackground": true,
            "ticks": "",
            "zerolinecolor": "white"
           },
           "yaxis": {
            "backgroundcolor": "#E5ECF6",
            "gridcolor": "white",
            "gridwidth": 2,
            "linecolor": "white",
            "showbackground": true,
            "ticks": "",
            "zerolinecolor": "white"
           },
           "zaxis": {
            "backgroundcolor": "#E5ECF6",
            "gridcolor": "white",
            "gridwidth": 2,
            "linecolor": "white",
            "showbackground": true,
            "ticks": "",
            "zerolinecolor": "white"
           }
          },
          "shapedefaults": {
           "line": {
            "color": "#2a3f5f"
           }
          },
          "ternary": {
           "aaxis": {
            "gridcolor": "white",
            "linecolor": "white",
            "ticks": ""
           },
           "baxis": {
            "gridcolor": "white",
            "linecolor": "white",
            "ticks": ""
           },
           "bgcolor": "#E5ECF6",
           "caxis": {
            "gridcolor": "white",
            "linecolor": "white",
            "ticks": ""
           }
          },
          "title": {
           "x": 0.05
          },
          "xaxis": {
           "automargin": true,
           "gridcolor": "white",
           "linecolor": "white",
           "ticks": "",
           "title": {
            "standoff": 15
           },
           "zerolinecolor": "white",
           "zerolinewidth": 2
          },
          "yaxis": {
           "automargin": true,
           "gridcolor": "white",
           "linecolor": "white",
           "ticks": "",
           "title": {
            "standoff": 15
           },
           "zerolinecolor": "white",
           "zerolinewidth": 2
          }
         }
        },
        "title": {
         "text": "Óbitos por doses recebidas"
        },
        "xaxis": {
         "title": {
          "text": "óbitos"
         }
        },
        "yaxis": {
         "title": {
          "text": "doses recebidas"
         }
        }
       }
      }
     },
     "metadata": {},
     "output_type": "display_data"
    }
   ],
   "source": [
    "\n",
    "\n",
    "# data = {\"labels\": labels_doses, \"values\": values_doses}\n",
    "# fig = px.bar(df, y=values_doses, x=labels_doses, \n",
    "#            title=\"Óbitos por doses recebidas\")\n",
    "# fig.update_layout(xaxis_title='Doses', yaxis_title='Óbitos')\n",
    "# fig.show()\n",
    "\n",
    "fig = go.Figure(data=[go.Bar(\n",
    "    x= labels_doses,\n",
    "    y= values_doses,\n",
    "    hovertemplate = '%{x} doses %{y:s}',\n",
    ")])\n",
    "fig.update_layout(title_text='Óbitos por doses recebidas')\n",
    "fig.update_layout(xaxis_title='óbitos', yaxis_title=\"doses recebidas\")"
   ]
  },
  {
   "cell_type": "markdown",
   "id": "eb4ba63a",
   "metadata": {},
   "source": [
    "## filtrar por obito por COVID e levando conta a idade"
   ]
  },
  {
   "cell_type": "markdown",
   "id": "195942ec",
   "metadata": {},
   "source": [
    "## por idade"
   ]
  },
  {
   "cell_type": "code",
   "execution_count": 16,
   "id": "8e5a8f56",
   "metadata": {},
   "outputs": [
    {
     "name": "stdout",
     "output_type": "stream",
     "text": [
      "idade\t óbitos\n",
      "0 anos\t 13\n",
      "1 anos\t 105\n",
      "2 anos\t 169\n",
      "3 anos\t 215\n",
      "4 anos\t 256\n",
      "5 anos\t 292\n",
      "6 anos\t 315\n",
      "7 anos\t 343\n",
      "8 anos\t 367\n",
      "9 anos\t 396\n",
      "10 anos\t 425\n",
      "11 anos\t 458\n",
      "12 anos\t 469\n",
      "13 anos\t 479\n",
      "14 anos\t 493\n",
      "15 anos\t 512\n",
      "16 anos\t 539\n",
      "17 anos\t 559\n",
      "18 anos\t 584\n"
     ]
    }
   ],
   "source": [
    "# selecionar apenas casos de óbitos pela COVID para individuos com menos de <19\n",
    "print(\"idade\\t\", \"óbitos\")\n",
    "for idade in range(0, 19):\n",
    "    df_menor_de_x_idade = df.loc[(df[\"EVOLUCAO\"] == 2) & (df[\"CLASSI_FIN\"]==5) & (df[\"NU_IDADE_N\"] <= idade)]\n",
    "    print(f\"{idade} anos\\t\", len(df_menor_de_x_idade))"
   ]
  },
  {
   "cell_type": "markdown",
   "id": "0b221019",
   "metadata": {},
   "source": [
    "## Faixa Etária\n"
   ]
  },
  {
   "cell_type": "code",
   "execution_count": 19,
   "id": "c684103f",
   "metadata": {},
   "outputs": [
    {
     "name": "stdout",
     "output_type": "stream",
     "text": [
      "faixa etária\t óbitos\n",
      "0-4\t 256\n",
      "5-9\t 140\n",
      "10-14\t 97\n",
      "15-19\t 116\n",
      "20-24\t 206\n",
      "25-29\t 290\n",
      "30-34\t 409\n",
      "35-39\t 590\n",
      "40-44\t 796\n",
      "45-49\t 1098\n",
      "50-54\t 1524\n",
      "55-59\t 2334\n",
      "60-64\t 3298\n",
      "65-69\t 4228\n",
      "70-74\t 5283\n",
      "75-79\t 6213\n",
      "80-84\t 6700\n",
      "85-89\t 6354\n",
      "90+\t 6758\n"
     ]
    }
   ],
   "source": [
    "labels_faixa = []\n",
    "values_faixa = []\n",
    "\n",
    "values_faixa.append(len(df.loc[(df[\"EVOLUCAO\"] == 2) & (df[\"CLASSI_FIN\"]==5) & (df[\"NU_IDADE_N\"] >= 0) & (df[\"NU_IDADE_N\"] <= 4)]))\n",
    "labels_faixa.append(\"0-4\")\n",
    "values_faixa.append(len(df.loc[(df[\"EVOLUCAO\"] == 2) & (df[\"CLASSI_FIN\"]==5) & (df[\"NU_IDADE_N\"] >= 5) & (df[\"NU_IDADE_N\"] <= 9)]))\n",
    "labels_faixa.append(\"5-9\")\n",
    "values_faixa.append(len(df.loc[(df[\"EVOLUCAO\"] == 2) & (df[\"CLASSI_FIN\"]==5) & (df[\"NU_IDADE_N\"] >= 10) & (df[\"NU_IDADE_N\"] <= 14)]))\n",
    "labels_faixa.append(\"10-14\")\n",
    "values_faixa.append(len(df.loc[(df[\"EVOLUCAO\"] == 2) & (df[\"CLASSI_FIN\"]==5) & (df[\"NU_IDADE_N\"] >= 15) & (df[\"NU_IDADE_N\"] <= 19)]))\n",
    "labels_faixa.append(\"15-19\")\n",
    "values_faixa.append(len(df.loc[(df[\"EVOLUCAO\"] == 2) & (df[\"CLASSI_FIN\"]==5) & (df[\"NU_IDADE_N\"] >= 20) & (df[\"NU_IDADE_N\"] <= 24)]))\n",
    "labels_faixa.append(\"20-24\")\n",
    "values_faixa.append(len(df.loc[(df[\"EVOLUCAO\"] == 2) & (df[\"CLASSI_FIN\"]==5) & (df[\"NU_IDADE_N\"] >= 25) & (df[\"NU_IDADE_N\"] <= 29)]))\n",
    "labels_faixa.append(\"25-29\")\n",
    "values_faixa.append(len(df.loc[(df[\"EVOLUCAO\"] == 2) & (df[\"CLASSI_FIN\"]==5) & (df[\"NU_IDADE_N\"] >= 30) & (df[\"NU_IDADE_N\"] <= 34)]))\n",
    "labels_faixa.append(\"30-34\")\n",
    "values_faixa.append(len(df.loc[(df[\"EVOLUCAO\"] == 2) & (df[\"CLASSI_FIN\"]==5) & (df[\"NU_IDADE_N\"] >= 35) & (df[\"NU_IDADE_N\"] <= 39)]))\n",
    "labels_faixa.append(\"35-39\")\n",
    "values_faixa.append(len(df.loc[(df[\"EVOLUCAO\"] == 2) & (df[\"CLASSI_FIN\"]==5) & (df[\"NU_IDADE_N\"] >= 40) & (df[\"NU_IDADE_N\"] <= 44)]))\n",
    "labels_faixa.append(\"40-44\")\n",
    "values_faixa.append(len(df.loc[(df[\"EVOLUCAO\"] == 2) & (df[\"CLASSI_FIN\"]==5) & (df[\"NU_IDADE_N\"] >= 45) & (df[\"NU_IDADE_N\"] <= 49)]))\n",
    "labels_faixa.append(\"45-49\")\n",
    "values_faixa.append(len(df.loc[(df[\"EVOLUCAO\"] == 2) & (df[\"CLASSI_FIN\"]==5) & (df[\"NU_IDADE_N\"] >= 50) & (df[\"NU_IDADE_N\"] <= 54)]))\n",
    "labels_faixa.append(\"50-54\")\n",
    "values_faixa.append(len(df.loc[(df[\"EVOLUCAO\"] == 2) & (df[\"CLASSI_FIN\"]==5) & (df[\"NU_IDADE_N\"] >= 55) & (df[\"NU_IDADE_N\"] <= 59)]))\n",
    "labels_faixa.append(\"55-59\")\n",
    "values_faixa.append(len(df.loc[(df[\"EVOLUCAO\"] == 2) & (df[\"CLASSI_FIN\"]==5) & (df[\"NU_IDADE_N\"] >= 60) & (df[\"NU_IDADE_N\"] <= 64)]))\n",
    "labels_faixa.append(\"60-64\")\n",
    "values_faixa.append(len(df.loc[(df[\"EVOLUCAO\"] == 2) & (df[\"CLASSI_FIN\"]==5) & (df[\"NU_IDADE_N\"] >= 65) & (df[\"NU_IDADE_N\"] <= 69)]))\n",
    "labels_faixa.append(\"65-69\")\n",
    "values_faixa.append(len(df.loc[(df[\"EVOLUCAO\"] == 2) & (df[\"CLASSI_FIN\"]==5) & (df[\"NU_IDADE_N\"] >= 70) & (df[\"NU_IDADE_N\"] <= 74)]))\n",
    "labels_faixa.append(\"70-74\")\n",
    "values_faixa.append(len(df.loc[(df[\"EVOLUCAO\"] == 2) & (df[\"CLASSI_FIN\"]==5) & (df[\"NU_IDADE_N\"] >= 75) & (df[\"NU_IDADE_N\"] <= 79)]))\n",
    "labels_faixa.append(\"75-79\")\n",
    "values_faixa.append(len(df.loc[(df[\"EVOLUCAO\"] == 2) & (df[\"CLASSI_FIN\"]==5) & (df[\"NU_IDADE_N\"] >= 80) & (df[\"NU_IDADE_N\"] <= 84)]))\n",
    "labels_faixa.append(\"80-84\")\n",
    "values_faixa.append(len(df.loc[(df[\"EVOLUCAO\"] == 2) & (df[\"CLASSI_FIN\"]==5) & (df[\"NU_IDADE_N\"] >= 85) & (df[\"NU_IDADE_N\"] <= 89)]))\n",
    "labels_faixa.append(\"85-89\")\n",
    "values_faixa.append(len(df.loc[(df[\"EVOLUCAO\"] == 2) & (df[\"CLASSI_FIN\"]==5) & (df[\"NU_IDADE_N\"] >= 90)]))\n",
    "labels_faixa.append(\"90+\")\n",
    "\n",
    "print(\"faixa etária\\t\", \"óbitos\")\n",
    "for index in range(len(labels_faixa)):\n",
    "    print(f\"{labels_faixa[index]}\\t\", values_faixa[index])\n"
   ]
  },
  {
   "cell_type": "code",
   "execution_count": 18,
   "id": "2b45ca49",
   "metadata": {},
   "outputs": [
    {
     "data": {
      "application/vnd.plotly.v1+json": {
       "config": {
        "plotlyServerURL": "https://plot.ly"
       },
       "data": [
        {
         "hovertemplate": "faixa %{y} anos<br>óbitos: %{x:s}",
         "orientation": "h",
         "type": "bar",
         "x": [
          256,
          140,
          97,
          116,
          206,
          290,
          409,
          590,
          796,
          1098,
          1524,
          2334,
          3298,
          4228,
          5283,
          6213,
          6700,
          6354,
          6758
         ],
         "y": [
          "0-4",
          "5-9",
          "10-14",
          "15-19",
          "20-24",
          "25-29",
          "30-34",
          "35-39",
          "40-44",
          "45-49",
          "50-54",
          "55-59",
          "60-64",
          "65-69",
          "70-74",
          "75-79",
          "80-84",
          "85-89",
          "90+"
         ]
        }
       ],
       "layout": {
        "template": {
         "data": {
          "bar": [
           {
            "error_x": {
             "color": "#2a3f5f"
            },
            "error_y": {
             "color": "#2a3f5f"
            },
            "marker": {
             "line": {
              "color": "#E5ECF6",
              "width": 0.5
             },
             "pattern": {
              "fillmode": "overlay",
              "size": 10,
              "solidity": 0.2
             }
            },
            "type": "bar"
           }
          ],
          "barpolar": [
           {
            "marker": {
             "line": {
              "color": "#E5ECF6",
              "width": 0.5
             },
             "pattern": {
              "fillmode": "overlay",
              "size": 10,
              "solidity": 0.2
             }
            },
            "type": "barpolar"
           }
          ],
          "carpet": [
           {
            "aaxis": {
             "endlinecolor": "#2a3f5f",
             "gridcolor": "white",
             "linecolor": "white",
             "minorgridcolor": "white",
             "startlinecolor": "#2a3f5f"
            },
            "baxis": {
             "endlinecolor": "#2a3f5f",
             "gridcolor": "white",
             "linecolor": "white",
             "minorgridcolor": "white",
             "startlinecolor": "#2a3f5f"
            },
            "type": "carpet"
           }
          ],
          "choropleth": [
           {
            "colorbar": {
             "outlinewidth": 0,
             "ticks": ""
            },
            "type": "choropleth"
           }
          ],
          "contour": [
           {
            "colorbar": {
             "outlinewidth": 0,
             "ticks": ""
            },
            "colorscale": [
             [
              0,
              "#0d0887"
             ],
             [
              0.1111111111111111,
              "#46039f"
             ],
             [
              0.2222222222222222,
              "#7201a8"
             ],
             [
              0.3333333333333333,
              "#9c179e"
             ],
             [
              0.4444444444444444,
              "#bd3786"
             ],
             [
              0.5555555555555556,
              "#d8576b"
             ],
             [
              0.6666666666666666,
              "#ed7953"
             ],
             [
              0.7777777777777778,
              "#fb9f3a"
             ],
             [
              0.8888888888888888,
              "#fdca26"
             ],
             [
              1,
              "#f0f921"
             ]
            ],
            "type": "contour"
           }
          ],
          "contourcarpet": [
           {
            "colorbar": {
             "outlinewidth": 0,
             "ticks": ""
            },
            "type": "contourcarpet"
           }
          ],
          "heatmap": [
           {
            "colorbar": {
             "outlinewidth": 0,
             "ticks": ""
            },
            "colorscale": [
             [
              0,
              "#0d0887"
             ],
             [
              0.1111111111111111,
              "#46039f"
             ],
             [
              0.2222222222222222,
              "#7201a8"
             ],
             [
              0.3333333333333333,
              "#9c179e"
             ],
             [
              0.4444444444444444,
              "#bd3786"
             ],
             [
              0.5555555555555556,
              "#d8576b"
             ],
             [
              0.6666666666666666,
              "#ed7953"
             ],
             [
              0.7777777777777778,
              "#fb9f3a"
             ],
             [
              0.8888888888888888,
              "#fdca26"
             ],
             [
              1,
              "#f0f921"
             ]
            ],
            "type": "heatmap"
           }
          ],
          "heatmapgl": [
           {
            "colorbar": {
             "outlinewidth": 0,
             "ticks": ""
            },
            "colorscale": [
             [
              0,
              "#0d0887"
             ],
             [
              0.1111111111111111,
              "#46039f"
             ],
             [
              0.2222222222222222,
              "#7201a8"
             ],
             [
              0.3333333333333333,
              "#9c179e"
             ],
             [
              0.4444444444444444,
              "#bd3786"
             ],
             [
              0.5555555555555556,
              "#d8576b"
             ],
             [
              0.6666666666666666,
              "#ed7953"
             ],
             [
              0.7777777777777778,
              "#fb9f3a"
             ],
             [
              0.8888888888888888,
              "#fdca26"
             ],
             [
              1,
              "#f0f921"
             ]
            ],
            "type": "heatmapgl"
           }
          ],
          "histogram": [
           {
            "marker": {
             "pattern": {
              "fillmode": "overlay",
              "size": 10,
              "solidity": 0.2
             }
            },
            "type": "histogram"
           }
          ],
          "histogram2d": [
           {
            "colorbar": {
             "outlinewidth": 0,
             "ticks": ""
            },
            "colorscale": [
             [
              0,
              "#0d0887"
             ],
             [
              0.1111111111111111,
              "#46039f"
             ],
             [
              0.2222222222222222,
              "#7201a8"
             ],
             [
              0.3333333333333333,
              "#9c179e"
             ],
             [
              0.4444444444444444,
              "#bd3786"
             ],
             [
              0.5555555555555556,
              "#d8576b"
             ],
             [
              0.6666666666666666,
              "#ed7953"
             ],
             [
              0.7777777777777778,
              "#fb9f3a"
             ],
             [
              0.8888888888888888,
              "#fdca26"
             ],
             [
              1,
              "#f0f921"
             ]
            ],
            "type": "histogram2d"
           }
          ],
          "histogram2dcontour": [
           {
            "colorbar": {
             "outlinewidth": 0,
             "ticks": ""
            },
            "colorscale": [
             [
              0,
              "#0d0887"
             ],
             [
              0.1111111111111111,
              "#46039f"
             ],
             [
              0.2222222222222222,
              "#7201a8"
             ],
             [
              0.3333333333333333,
              "#9c179e"
             ],
             [
              0.4444444444444444,
              "#bd3786"
             ],
             [
              0.5555555555555556,
              "#d8576b"
             ],
             [
              0.6666666666666666,
              "#ed7953"
             ],
             [
              0.7777777777777778,
              "#fb9f3a"
             ],
             [
              0.8888888888888888,
              "#fdca26"
             ],
             [
              1,
              "#f0f921"
             ]
            ],
            "type": "histogram2dcontour"
           }
          ],
          "mesh3d": [
           {
            "colorbar": {
             "outlinewidth": 0,
             "ticks": ""
            },
            "type": "mesh3d"
           }
          ],
          "parcoords": [
           {
            "line": {
             "colorbar": {
              "outlinewidth": 0,
              "ticks": ""
             }
            },
            "type": "parcoords"
           }
          ],
          "pie": [
           {
            "automargin": true,
            "type": "pie"
           }
          ],
          "scatter": [
           {
            "fillpattern": {
             "fillmode": "overlay",
             "size": 10,
             "solidity": 0.2
            },
            "type": "scatter"
           }
          ],
          "scatter3d": [
           {
            "line": {
             "colorbar": {
              "outlinewidth": 0,
              "ticks": ""
             }
            },
            "marker": {
             "colorbar": {
              "outlinewidth": 0,
              "ticks": ""
             }
            },
            "type": "scatter3d"
           }
          ],
          "scattercarpet": [
           {
            "marker": {
             "colorbar": {
              "outlinewidth": 0,
              "ticks": ""
             }
            },
            "type": "scattercarpet"
           }
          ],
          "scattergeo": [
           {
            "marker": {
             "colorbar": {
              "outlinewidth": 0,
              "ticks": ""
             }
            },
            "type": "scattergeo"
           }
          ],
          "scattergl": [
           {
            "marker": {
             "colorbar": {
              "outlinewidth": 0,
              "ticks": ""
             }
            },
            "type": "scattergl"
           }
          ],
          "scattermapbox": [
           {
            "marker": {
             "colorbar": {
              "outlinewidth": 0,
              "ticks": ""
             }
            },
            "type": "scattermapbox"
           }
          ],
          "scatterpolar": [
           {
            "marker": {
             "colorbar": {
              "outlinewidth": 0,
              "ticks": ""
             }
            },
            "type": "scatterpolar"
           }
          ],
          "scatterpolargl": [
           {
            "marker": {
             "colorbar": {
              "outlinewidth": 0,
              "ticks": ""
             }
            },
            "type": "scatterpolargl"
           }
          ],
          "scatterternary": [
           {
            "marker": {
             "colorbar": {
              "outlinewidth": 0,
              "ticks": ""
             }
            },
            "type": "scatterternary"
           }
          ],
          "surface": [
           {
            "colorbar": {
             "outlinewidth": 0,
             "ticks": ""
            },
            "colorscale": [
             [
              0,
              "#0d0887"
             ],
             [
              0.1111111111111111,
              "#46039f"
             ],
             [
              0.2222222222222222,
              "#7201a8"
             ],
             [
              0.3333333333333333,
              "#9c179e"
             ],
             [
              0.4444444444444444,
              "#bd3786"
             ],
             [
              0.5555555555555556,
              "#d8576b"
             ],
             [
              0.6666666666666666,
              "#ed7953"
             ],
             [
              0.7777777777777778,
              "#fb9f3a"
             ],
             [
              0.8888888888888888,
              "#fdca26"
             ],
             [
              1,
              "#f0f921"
             ]
            ],
            "type": "surface"
           }
          ],
          "table": [
           {
            "cells": {
             "fill": {
              "color": "#EBF0F8"
             },
             "line": {
              "color": "white"
             }
            },
            "header": {
             "fill": {
              "color": "#C8D4E3"
             },
             "line": {
              "color": "white"
             }
            },
            "type": "table"
           }
          ]
         },
         "layout": {
          "annotationdefaults": {
           "arrowcolor": "#2a3f5f",
           "arrowhead": 0,
           "arrowwidth": 1
          },
          "autotypenumbers": "strict",
          "coloraxis": {
           "colorbar": {
            "outlinewidth": 0,
            "ticks": ""
           }
          },
          "colorscale": {
           "diverging": [
            [
             0,
             "#8e0152"
            ],
            [
             0.1,
             "#c51b7d"
            ],
            [
             0.2,
             "#de77ae"
            ],
            [
             0.3,
             "#f1b6da"
            ],
            [
             0.4,
             "#fde0ef"
            ],
            [
             0.5,
             "#f7f7f7"
            ],
            [
             0.6,
             "#e6f5d0"
            ],
            [
             0.7,
             "#b8e186"
            ],
            [
             0.8,
             "#7fbc41"
            ],
            [
             0.9,
             "#4d9221"
            ],
            [
             1,
             "#276419"
            ]
           ],
           "sequential": [
            [
             0,
             "#0d0887"
            ],
            [
             0.1111111111111111,
             "#46039f"
            ],
            [
             0.2222222222222222,
             "#7201a8"
            ],
            [
             0.3333333333333333,
             "#9c179e"
            ],
            [
             0.4444444444444444,
             "#bd3786"
            ],
            [
             0.5555555555555556,
             "#d8576b"
            ],
            [
             0.6666666666666666,
             "#ed7953"
            ],
            [
             0.7777777777777778,
             "#fb9f3a"
            ],
            [
             0.8888888888888888,
             "#fdca26"
            ],
            [
             1,
             "#f0f921"
            ]
           ],
           "sequentialminus": [
            [
             0,
             "#0d0887"
            ],
            [
             0.1111111111111111,
             "#46039f"
            ],
            [
             0.2222222222222222,
             "#7201a8"
            ],
            [
             0.3333333333333333,
             "#9c179e"
            ],
            [
             0.4444444444444444,
             "#bd3786"
            ],
            [
             0.5555555555555556,
             "#d8576b"
            ],
            [
             0.6666666666666666,
             "#ed7953"
            ],
            [
             0.7777777777777778,
             "#fb9f3a"
            ],
            [
             0.8888888888888888,
             "#fdca26"
            ],
            [
             1,
             "#f0f921"
            ]
           ]
          },
          "colorway": [
           "#636efa",
           "#EF553B",
           "#00cc96",
           "#ab63fa",
           "#FFA15A",
           "#19d3f3",
           "#FF6692",
           "#B6E880",
           "#FF97FF",
           "#FECB52"
          ],
          "font": {
           "color": "#2a3f5f"
          },
          "geo": {
           "bgcolor": "white",
           "lakecolor": "white",
           "landcolor": "#E5ECF6",
           "showlakes": true,
           "showland": true,
           "subunitcolor": "white"
          },
          "hoverlabel": {
           "align": "left"
          },
          "hovermode": "closest",
          "mapbox": {
           "style": "light"
          },
          "paper_bgcolor": "white",
          "plot_bgcolor": "#E5ECF6",
          "polar": {
           "angularaxis": {
            "gridcolor": "white",
            "linecolor": "white",
            "ticks": ""
           },
           "bgcolor": "#E5ECF6",
           "radialaxis": {
            "gridcolor": "white",
            "linecolor": "white",
            "ticks": ""
           }
          },
          "scene": {
           "xaxis": {
            "backgroundcolor": "#E5ECF6",
            "gridcolor": "white",
            "gridwidth": 2,
            "linecolor": "white",
            "showbackground": true,
            "ticks": "",
            "zerolinecolor": "white"
           },
           "yaxis": {
            "backgroundcolor": "#E5ECF6",
            "gridcolor": "white",
            "gridwidth": 2,
            "linecolor": "white",
            "showbackground": true,
            "ticks": "",
            "zerolinecolor": "white"
           },
           "zaxis": {
            "backgroundcolor": "#E5ECF6",
            "gridcolor": "white",
            "gridwidth": 2,
            "linecolor": "white",
            "showbackground": true,
            "ticks": "",
            "zerolinecolor": "white"
           }
          },
          "shapedefaults": {
           "line": {
            "color": "#2a3f5f"
           }
          },
          "ternary": {
           "aaxis": {
            "gridcolor": "white",
            "linecolor": "white",
            "ticks": ""
           },
           "baxis": {
            "gridcolor": "white",
            "linecolor": "white",
            "ticks": ""
           },
           "bgcolor": "#E5ECF6",
           "caxis": {
            "gridcolor": "white",
            "linecolor": "white",
            "ticks": ""
           }
          },
          "title": {
           "x": 0.05
          },
          "xaxis": {
           "automargin": true,
           "gridcolor": "white",
           "linecolor": "white",
           "ticks": "",
           "title": {
            "standoff": 15
           },
           "zerolinecolor": "white",
           "zerolinewidth": 2
          },
          "yaxis": {
           "automargin": true,
           "gridcolor": "white",
           "linecolor": "white",
           "ticks": "",
           "title": {
            "standoff": 15
           },
           "zerolinecolor": "white",
           "zerolinewidth": 2
          }
         }
        },
        "xaxis": {
         "title": {
          "text": "óbitos"
         }
        },
        "yaxis": {
         "title": {
          "text": "faixa etária"
         }
        }
       }
      }
     },
     "metadata": {},
     "output_type": "display_data"
    }
   ],
   "source": [
    "fig = go.Figure(go.Bar(\n",
    "            x=values_faixa,\n",
    "            y=labels_faixa,\n",
    "            orientation='h',\n",
    "            hovertemplate = 'faixa %{y} anos<br>óbitos: %{x:s}',\n",
    "))\n",
    "fig.update_layout(xaxis_title='óbitos', yaxis_title=\"faixa etária\")\n",
    "fig.show()"
   ]
  },
  {
   "cell_type": "code",
   "execution_count": null,
   "id": "860a769b",
   "metadata": {},
   "outputs": [],
   "source": []
  }
 ],
 "metadata": {
  "kernelspec": {
   "display_name": "Python 3.10.5 ('.venv': venv)",
   "language": "python",
   "name": "python3"
  },
  "language_info": {
   "codemirror_mode": {
    "name": "ipython",
    "version": 3
   },
   "file_extension": ".py",
   "mimetype": "text/x-python",
   "name": "python",
   "nbconvert_exporter": "python",
   "pygments_lexer": "ipython3",
   "version": "3.10.5"
  },
  "vscode": {
   "interpreter": {
    "hash": "a9b4d3e6c1f6a44b0c7316497613f55afd115ebec5bcd4ffbf6eb47802578b13"
   }
  }
 },
 "nbformat": 4,
 "nbformat_minor": 5
}
